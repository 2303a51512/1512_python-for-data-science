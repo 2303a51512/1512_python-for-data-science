{
  "nbformat": 4,
  "nbformat_minor": 0,
  "metadata": {
    "colab": {
      "provenance": [],
      "authorship_tag": "ABX9TyNZPrq+cwsZEb1JcN/nzJvz",
      "include_colab_link": true
    },
    "kernelspec": {
      "name": "python3",
      "display_name": "Python 3"
    },
    "language_info": {
      "name": "python"
    }
  },
  "cells": [
    {
      "cell_type": "markdown",
      "metadata": {
        "id": "view-in-github",
        "colab_type": "text"
      },
      "source": [
        "<a href=\"https://colab.research.google.com/github/2303a51512/1512_python-for-data-science/blob/main/lab2_Q1ipynb.ipynb\" target=\"_parent\"><img src=\"https://colab.research.google.com/assets/colab-badge.svg\" alt=\"Open In Colab\"/></a>"
      ]
    },
    {
      "cell_type": "code",
      "execution_count": 1,
      "metadata": {
        "id": "pPfaAlMiT__1"
      },
      "outputs": [],
      "source": [
        "import numpy as np\n",
        "import pandas as pd"
      ]
    },
    {
      "cell_type": "code",
      "source": [
        "temperature = np.array([26,27,29,30,32,31,29,28,27,29,26,23])\n",
        "print(\"12 Monthly temperature values are :\",temperature)"
      ],
      "metadata": {
        "colab": {
          "base_uri": "https://localhost:8080/"
        },
        "id": "CXEtDWcjVT9f",
        "outputId": "d3c3f43e-1ac8-4f42-eee4-f0fb994f0a77"
      },
      "execution_count": 2,
      "outputs": [
        {
          "output_type": "stream",
          "name": "stdout",
          "text": [
            "12 Monthly temperature values are : [26 27 29 30 32 31 29 28 27 29 26 23]\n"
          ]
        }
      ]
    },
    {
      "cell_type": "code",
      "source": [
        "avg_temp=np.average(temperature)\n",
        "print(\"Average temperature is :\",avg_temp)"
      ],
      "metadata": {
        "colab": {
          "base_uri": "https://localhost:8080/"
        },
        "id": "UAYNXsgTVai_",
        "outputId": "50c5d7f6-7007-4ebb-c7ef-190808a2dc4e"
      },
      "execution_count": 3,
      "outputs": [
        {
          "output_type": "stream",
          "name": "stdout",
          "text": [
            "Average temperature is : 28.083333333333332\n"
          ]
        }
      ]
    },
    {
      "cell_type": "code",
      "source": [
        "\n",
        "hottest_month = np.argmax(temperature)\n",
        "coldest_month = np.argmin(temperature)\n",
        "print(\"Hottest month is :\",hottest_month+1)\n",
        "print(\"Coldest month is :\",coldest_month+1)"
      ],
      "metadata": {
        "colab": {
          "base_uri": "https://localhost:8080/"
        },
        "id": "3CQTSgJ1Vi-S",
        "outputId": "de742a98-2e7f-4408-a2b0-3b184413e424"
      },
      "execution_count": 4,
      "outputs": [
        {
          "output_type": "stream",
          "name": "stdout",
          "text": [
            "Hottest month is : 5\n",
            "Coldest month is : 12\n"
          ]
        }
      ]
    },
    {
      "cell_type": "code",
      "source": [
        "normalized_temps = (temperature - np.min(temperature)) / (np.max(temperature) - np.min(temperature))\n",
        "print(\"Normalized Temperatures:\",normalized_temps)"
      ],
      "metadata": {
        "colab": {
          "base_uri": "https://localhost:8080/"
        },
        "id": "sJCXz1g2VoXE",
        "outputId": "dfe2512c-783e-4ac3-a234-e63e3b239f3d"
      },
      "execution_count": 5,
      "outputs": [
        {
          "output_type": "stream",
          "name": "stdout",
          "text": [
            "Normalized Temperatures: [0.33333333 0.44444444 0.66666667 0.77777778 1.         0.88888889\n",
            " 0.66666667 0.55555556 0.44444444 0.66666667 0.33333333 0.        ]\n"
          ]
        }
      ]
    },
    {
      "cell_type": "code",
      "source": [
        "months_above_avg = temperature > avg_temp\n",
        "print(\"Number of months above average:\",months_above_avg)"
      ],
      "metadata": {
        "colab": {
          "base_uri": "https://localhost:8080/"
        },
        "id": "wMlKW5NRVxz_",
        "outputId": "89a1660f-a963-4e03-c764-e88a8b88fd5e"
      },
      "execution_count": 6,
      "outputs": [
        {
          "output_type": "stream",
          "name": "stdout",
          "text": [
            "Number of months above average: [False False  True  True  True  True  True False False  True False False]\n"
          ]
        }
      ]
    },
    {
      "cell_type": "code",
      "source": [
        "monthly_temp_farenheit = (temperature * 9/5) + 32\n",
        "print(\"Temperatures in Fahrenheit:\",monthly_temp_farenheit)\n",
        ""
      ],
      "metadata": {
        "colab": {
          "base_uri": "https://localhost:8080/"
        },
        "id": "D0L_Qvb7V2M5",
        "outputId": "17872e5d-6c61-436b-a3f8-d8d3c525825f"
      },
      "execution_count": 7,
      "outputs": [
        {
          "output_type": "stream",
          "name": "stdout",
          "text": [
            "Temperatures in Fahrenheit: [78.8 80.6 84.2 86.  89.6 87.8 84.2 82.4 80.6 84.2 78.8 73.4]\n"
          ]
        }
      ]
    }
  ]
}